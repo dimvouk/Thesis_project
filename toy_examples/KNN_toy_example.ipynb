{
 "cells": [
  {
   "cell_type": "markdown",
   "metadata": {},
   "source": [
    "### KNN k-nearest neighbors algorithm \n",
    "\n",
    "This ml approach finds in the historical data the k past situations that were most similar to the current situation (based on the features).\n",
    "\"Closest\" means similar load, similar wind, similar solar, same or similar day type and in general similar features.\n",
    "\n",
    "How they compute the level of needed reserve?\n",
    "\n",
    "Once they find the k similar past situations, they look at how much balancing power was needed back then.\n",
    "They compute a weighted average of these historical reserve needs to predict how much reserve is needed now.\n",
    "\n",
    "Weighted sum: the closer the historical situation is to the current one, the higher the weight it gets\n",
    "\n",
    "Source paper : Ohsenbruegge, A.; Klingenberg, T.; Lehnhoff, S. Dynamic Data Driven Dimensioning of Balancing Power with k-Nearest Neighbors. In Proceedings of the Power and Energy Student Summit (PESS) 2015, Dortmund, Germany, 13–14 January 2015."
   ]
  },
  {
   "cell_type": "markdown",
   "metadata": {},
   "source": [
    "### Step : Define Today's System Conditions\n",
    "\n",
    "- Load = 8500 MW\n",
    "- Wind = 1000 MW\n",
    "- PV = 500 MW\n",
    "- Day = Thursday\n",
    "\n",
    "### Step 2: Define Historical Data\n",
    "\n",
    "| Day        | Load (MW) | Wind (MW) | PV (MW) | Reserve needed (MW) |\n",
    "|------------|-----------|-----------|---------|---------------------|\n",
    "| A (Monday) | 8200      | 950       | 450     | 300                 |\n",
    "| B (Thursday) | 8600      | 1050      | 480     | 320                 |\n",
    "| C (Saturday) | 8300      | 970       | 470     | 280                 |\n",
    "| D (Thursday) | 8450      | 990       | 500     | 310                 |\n",
    "\n",
    "### Step 3: Calculate Distances\n",
    "\n",
    "Using Euclidean distance: Distance = √[(Load difference)² + (Wind difference)² + (PV difference)²]\n",
    "\n",
    "\n",
    "### Step 4: Find the most close to today days (we assume k=2 days)\n",
    "\n",
    "D (distance ≈ 51)\n",
    "\n",
    "B (distance ≈ 114)\n",
    "\n",
    "### Step 5: Find weights and normalize \n",
    "\n",
    "Weight = 1 / Distance\n",
    "\n",
    "Weight for D = 1 / 51 ≈ 0.0196\n",
    "Weight for B = 1 / 114 ≈ 0.0088\n",
    "\n",
    "Sum of weights = 0.0196 + 0.0088 = 0.0284\n",
    "\n",
    "Normalized weights:\n",
    "\n",
    "D = 0.0196 / 0.0284 ≈ 69%\n",
    "B = 0.0088 / 0.0284 ≈ 31%\n",
    "\n",
    "\n",
    "\n",
    "### Step 6: Predict the level of reserve\n",
    "\n",
    "Reserve = SUM(Wi * Ri) = (0.69 × 310 MW) + (0.31 × 320 MW) = 313.1MW \n",
    "\n",
    "\n"
   ]
  },
  {
   "cell_type": "markdown",
   "metadata": {},
   "source": [
    "### A different approach is based on another paper that weight more for the cases that are more close to today's condition giving stronger weights on these days .\n",
    "\n",
    "Weight = e^(-λ * Distance)\n",
    "\n",
    "The smaller the distance the higher the weight (exp)"
   ]
  }
 ],
 "metadata": {
  "language_info": {
   "name": "python"
  }
 },
 "nbformat": 4,
 "nbformat_minor": 2
}
